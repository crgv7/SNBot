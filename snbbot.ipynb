{
  "cells": [
    {
      "cell_type": "markdown",
      "metadata": {
        "id": "view-in-github",
        "colab_type": "text"
      },
      "source": [
        "<a href=\"https://colab.research.google.com/github/crgv7/SNBot/blob/main/snbbot.ipynb\" target=\"_parent\"><img src=\"https://colab.research.google.com/assets/colab-badge.svg\" alt=\"Open In Colab\"/></a>"
      ]
    },
    {
      "cell_type": "code",
      "execution_count": null,
      "metadata": {
        "colab": {
          "base_uri": "https://localhost:8080/"
        },
        "id": "BifgscT2gnU6",
        "outputId": "0a58964e-28dd-42f0-d061-53e0c43352db"
      },
      "outputs": [
        {
          "output_type": "stream",
          "name": "stdout",
          "text": [
            "Looking in indexes: https://pypi.org/simple, https://us-python.pkg.dev/colab-wheels/public/simple/\n",
            "Collecting pyTelegramBotAPI\n",
            "  Downloading pyTelegramBotAPI-4.10.0.tar.gz (222 kB)\n",
            "\u001b[2K     \u001b[90m━━━━━━━━━━━━━━━━━━━━━━━━━━━━━━━━━━━━━━━\u001b[0m \u001b[32m222.9/222.9 KB\u001b[0m \u001b[31m4.6 MB/s\u001b[0m eta \u001b[36m0:00:00\u001b[0m\n",
            "\u001b[?25h  Preparing metadata (setup.py) ... \u001b[?25l\u001b[?25hdone\n",
            "Requirement already satisfied: requests in /usr/local/lib/python3.9/dist-packages (from pyTelegramBotAPI) (2.27.1)\n",
            "Requirement already satisfied: certifi>=2017.4.17 in /usr/local/lib/python3.9/dist-packages (from requests->pyTelegramBotAPI) (2022.12.7)\n",
            "Requirement already satisfied: urllib3<1.27,>=1.21.1 in /usr/local/lib/python3.9/dist-packages (from requests->pyTelegramBotAPI) (1.26.15)\n",
            "Requirement already satisfied: charset-normalizer~=2.0.0 in /usr/local/lib/python3.9/dist-packages (from requests->pyTelegramBotAPI) (2.0.12)\n",
            "Requirement already satisfied: idna<4,>=2.5 in /usr/local/lib/python3.9/dist-packages (from requests->pyTelegramBotAPI) (3.4)\n",
            "Building wheels for collected packages: pyTelegramBotAPI\n",
            "  Building wheel for pyTelegramBotAPI (setup.py) ... \u001b[?25l\u001b[?25hdone\n",
            "  Created wheel for pyTelegramBotAPI: filename=pyTelegramBotAPI-4.10.0-py3-none-any.whl size=205421 sha256=97c2890d59e0792794e3485d2f88093474f62e44d5629e17a27268573369f614\n",
            "  Stored in directory: /root/.cache/pip/wheels/ef/ba/4b/187be68f61aa7818b28d8b21200d130fd35ba36f002efcc262\n",
            "Successfully built pyTelegramBotAPI\n",
            "Installing collected packages: pyTelegramBotAPI\n",
            "Successfully installed pyTelegramBotAPI-4.10.0\n"
          ]
        }
      ],
      "source": [
        "pip install pyTelegramBotAPI"
      ]
    },
    {
      "cell_type": "markdown",
      "metadata": {
        "id": "OVDaHZJDnxNX"
      },
      "source": [
        "# Creando y leyendo  json\n"
      ]
    },
    {
      "cell_type": "code",
      "execution_count": null,
      "metadata": {
        "id": "KVpuj2EKplxO"
      },
      "outputs": [],
      "source": [
        "import json\n",
        "import pickle\n",
        "\n",
        "\n",
        "def tabla_json():\n",
        "  ruta='/media/equipos.json'\n",
        "  with open(ruta) as f:\n",
        "    equipos=json.load(f)\n",
        "  \n",
        "    #ordenar\n",
        "    order=sorted(equipos['equipos'], key=lambda student: student['G'], reverse=True)\n",
        "\n",
        "    # converitendo a String\n",
        "    text = json.dumps(order, indent=4)\n",
        "  return text   \n",
        "\n",
        "\n",
        "\n",
        "def stats():\n",
        "  equipos={}\n",
        "  equipos['equipos']=[]\n",
        "  \n",
        "\n",
        "  granma={'nombre':'Granma', 'G':\"4\",'P':'0','Prom':'1.000','u10':'1-0','racha':' G-1'}\n",
        "  guantanamo={'nombre':'Guantanamo', 'G':\"1\",'P':'0','Prom':'1.000','u10':'1-0','racha':' G-1'}\n",
        "  santiago={'nombre':'Santiago de Cuba', 'G':\"5\",'P':'0','Prom':'1.000','u10':'1-0','racha':' G-1'}\n",
        "  holguin={'nombre':'Holguin', 'G':\"1\",'P':'0','Prom':'1.000','u10':'1-0','racha':' G-1'}\n",
        "  lastuna={'nombre':'Las tunas', 'G':\"1\",'P':'0','Prom':'1.000','u10':'1-0','racha':' G-1'}\n",
        "  camaguey={'nombre':'Camaguey', 'G':\"1\",'P':'0','Prom':'1.000','u10':'1-0','racha':' G-1'}\n",
        "  ciego={'nombre':'Ciego', 'G':\"1\",'P':'0','Prom':'1.000','u10':'1-0','racha':' G-1'}\n",
        "  villa={'nombre':'Villa Clara', 'G':\"1\",'P':'0','Prom':'1.000','u10':'1-0','racha':' G-1'}\n",
        "  ssp={'nombre':'Santi Spritu', 'G':\"1\",'P':'0','Prom':'1.000','u10':'1-0','racha':' G-1'}\n",
        "  cienfuego={'nombre':'Cienfuego', 'G':\"1\",'P':'0','Prom':'1.000','u10':'1-0','racha':' G-1'}\n",
        "  mtz={'nombre':'Matanza', 'G':\"1\",'P':'0','Prom':'1.000','u10':'1-0','racha':' G-1'}\n",
        "  mayabeque={'nombre':'Mayabeque', 'G':\"1\",'P':'0','Prom':'1.000','u10':'1-0','racha':' G-1'}\n",
        "  habana={'nombre':'Habana', 'G':\"1\",'P':'0','Prom':'1.000','u10':'1-0','racha':' G-1'}\n",
        "  artemisa={'nombre':'Artemisa', 'G':\"1\",'P':'0','Prom':'1.000','u10':'1-0','racha':' G-1'}\n",
        "  pinar={'nombre':'Pinar del Rio', 'G':\"1\",'P':'0','Prom':'1.000','u10':'1-0','racha':' G-1'}\n",
        "  isla={'nombre':'Isla de la Juventud', 'G':\"1\",'P':'0','Prom':'1.000','u10':'1-0','racha':' G-1'}\n",
        "\n",
        "  equipos['equipos'].append(granma)\n",
        "  equipos['equipos'].append(guantanamo)\n",
        "  equipos['equipos'].append(santiago)\n",
        "  equipos['equipos'].append(holguin)\n",
        "  equipos['equipos'].append(lastuna)\n",
        "\n",
        "  equipos['equipos'].append(camaguey)\n",
        "  equipos['equipos'].append(ciego)\n",
        "  equipos['equipos'].append(villa)\n",
        "  equipos['equipos'].append(ssp)\n",
        "  equipos['equipos'].append(cienfuego)\n",
        "\n",
        "  equipos['equipos'].append(mtz)\n",
        "  equipos['equipos'].append(mayabeque)\n",
        "  equipos['equipos'].append(habana)\n",
        "  equipos['equipos'].append(artemisa)\n",
        "  equipos['equipos'].append(pinar)\n",
        "  equipos['equipos'].append(isla)\n",
        "\n",
        "  with open('/media/equipos.json','w') as f:\n",
        "    json.dump(equipos,f)\n",
        "\n",
        "stats()\n",
        "\n",
        "\n",
        " "
      ]
    },
    {
      "cell_type": "markdown",
      "metadata": {
        "id": "f-tigPrfJBaG"
      },
      "source": [
        "\n",
        "# Bot\n"
      ]
    },
    {
      "cell_type": "markdown",
      "metadata": {
        "id": "ESkV3C8oJBYK"
      },
      "source": [
        "Noticas JSon\n"
      ]
    },
    {
      "cell_type": "code",
      "execution_count": null,
      "metadata": {
        "id": "-feDR1knK5N1"
      },
      "outputs": [],
      "source": [
        "def noticia_json():\n",
        "  noticias={}\n",
        "  noticias['noticias']=[]\n",
        "  txt=[]\n",
        "  news1={'noticia':'La Habana.- EN UNA maratonica jornada de 16 juegos a siete innings, Villa Clara mostró la nota más alta al ganar sus dos partidos contra Cienfuegos y quedarse como unico conjunto con tres triunfos sucesivos en la recién iniciada 62 Serie Nacional de Beisbol. A primera hora, en el estadio Augusto César Sandino, el equipo naranja vencio 4x3 con destaque ofensivo para su joven torpedero Christian Rodriguez (4-3). Abrio el derecho Freddy Asiel Alvarez, quien apenas admitio tres jits en cinco entradas y dejo el cotejo igualado 1x1. Gano el relevista Randy Cueto, autor de cuatro entradas a ritmo de dos sencillos. En el duelo de cierre los villaclareños se impusieron 7x5 tambien con destaque madero en ristre para el parador en corto Rodríguez, quien conectó de 3-3 con un triple y tres carreras impulsadas.'}\n",
        "  news2={'noticia':'La FCB exigira derechos en caso de pitcher Yariel Rodríguez. La FCB requerira la cifra de 10 millones de dolares por daños y perjuicios.'}\n",
        "  \n",
        "  noticias['noticias'].append(news1)\n",
        "  noticias['noticias'].append(news2)\n",
        " # txt.append('noticia--\\n '+news['text'])\n",
        "  \n",
        "  with open('/media/noticias.json','w') as f:\n",
        "    json.dump(noticias,f)\n",
        "\n",
        "noticia_json()\n",
        "\n",
        "def news_json():\n",
        "  ruta='/media/noticias.json'\n",
        "  txt=[]\n",
        "  with open(ruta) as f:\n",
        "    noticias=json.load(f)\n",
        "    #for x in noticias['noticias']:\n",
        "     # txt.append(x)\n",
        "    text = json.dumps(noticias, indent=4, ensure_ascii=False)\n",
        "    # converitendo a String\n",
        "    \n",
        "  return text   \n",
        "\n",
        "news_json()\n",
        "\n"
      ]
    },
    {
      "cell_type": "markdown",
      "source": [
        "Resultados\n"
      ],
      "metadata": {
        "id": "6XYLR32OTOiw"
      }
    },
    {
      "cell_type": "code",
      "execution_count": null,
      "metadata": {
        "id": "BNclFvZsT85g",
        "colab": {
          "base_uri": "https://localhost:8080/"
        },
        "outputId": "567bc562-0db7-42d3-efd5-9af59430a3e3"
      },
      "outputs": [
        {
          "output_type": "stream",
          "name": "stdout",
          "text": [
            "['GRM 4-0 MTZ ', 'STG 2-0 ART ', 'GTM 3-5 PR ', 'HOL 1-0 MAY ', 'LTU 4-0 ISL ', 'CMG 4-0 SSP ', 'VCL 8-1 CFG ', 'IND 4-0 CAV ']\n"
          ]
        }
      ],
      "source": [
        "def resultados():\n",
        "  resultados=[]\n",
        "\n",
        "  juego1=\"GRM 4-0 MTZ \"\n",
        "  juego2=\"STG 2-0 ART \"\n",
        "  juego3=\"GTM 3-5 PR \"\n",
        "  juego4=\"HOL 1-0 MAY \"\n",
        "  juego5=\"LTU 4-0 ISL \"\n",
        "  juego6=\"CMG 4-0 SSP \"\n",
        "  juego7=\"VCL 8-1 CFG \"\n",
        "  juego8=\"IND 4-0 CAV \"\n",
        "  \n",
        "  resultados.append(juego1)\n",
        "  resultados.append(juego2)\n",
        "  resultados.append(juego3)\n",
        "  resultados.append(juego4)\n",
        "  resultados.append(juego5)\n",
        "  resultados.append(juego6)\n",
        "  resultados.append(juego7)\n",
        "  resultados.append(juego8)\n",
        "\n",
        "  return resultados\n",
        "\n",
        "print(resultados())  \n"
      ]
    },
    {
      "cell_type": "code",
      "source": [
        "\n",
        "\n"
      ],
      "metadata": {
        "id": "exm4mYbpTU-Y"
      },
      "execution_count": null,
      "outputs": []
    },
    {
      "cell_type": "code",
      "execution_count": 26,
      "metadata": {
        "id": "o1jPbcAZhI4k",
        "colab": {
          "base_uri": "https://localhost:8080/"
        },
        "outputId": "84075f23-167d-4250-f1be-9f8f88a06d1a"
      },
      "outputs": [
        {
          "output_type": "stream",
          "name": "stderr",
          "text": [
            "2023-03-31 16:30:31,723 (__init__.py:966 MainThread) ERROR - TeleBot: \"Infinity polling: polling exited\"\n",
            "ERROR:TeleBot:Infinity polling: polling exited\n",
            "2023-03-31 16:30:31,732 (__init__.py:968 MainThread) ERROR - TeleBot: \"Break infinity polling\"\n",
            "ERROR:TeleBot:Break infinity polling\n"
          ]
        }
      ],
      "source": [
        "import telebot\n",
        "\n",
        "bot=telebot.TeleBot('6058279985:AAEuX1mCmt3Pd7wK46NDdQdt7ghOhamx9rI', parse_mode=None)\n",
        "\n",
        "@bot.message_handler(commands=['ayuda'])\n",
        "def send_welcome(message):\n",
        "\tbot.reply_to(message, \"Comandos\\n /tabla posiciones de Equipos\\n /noticias noticias\\n /resultados resultados de la jornada\\n /lb lideres de  Bateo\\n /lp lideres de picheo\\n /about Acerca de\")\n",
        " \n",
        "\n",
        "\n",
        "\n",
        "\n",
        "\n",
        "@bot.message_handler(commands=['tabla'])\n",
        "def send_stat(message):\n",
        "\tbot.send_message(message.chat.id, tabla_json()) \n",
        " \n",
        "@bot.message_handler(commands=['noticias'])\n",
        "def send_welcome(message):\n",
        "\tbot.send_message(message.chat.id, news_json()) \n",
        "\n",
        "@bot.message_handler(commands=['resultados'])\n",
        "def send_welcome(message):\n",
        "\ttxt='\\n'.join(resultados())\n",
        "\tbot.send_message(message.chat.id, txt) \n",
        " \n",
        "@bot.message_handler(commands=['lb'])\n",
        "def send_welcome(message):\n",
        "\tphoto = open('/media/lb.png', 'rb')\n",
        "\tbot.send_photo(message.chat.id, photo) \n",
        "\n",
        "@bot.message_handler(commands=['about'])\n",
        "def send_welcome(message):\n",
        "\tbot.send_message(message.chat.id, 'Grupo para dar informacion sobre la SNB\\n Version: 1.00\\n Creador: Carlos Garcia ') \n",
        "\n",
        "  \n",
        "\n",
        "\n",
        "#arrancar el bot\n",
        "bot.infinity_polling()\n",
        "\n",
        "\n",
        "\n"
      ]
    }
  ],
  "metadata": {
    "colab": {
      "provenance": [],
      "authorship_tag": "ABX9TyP5lbZGlpyrU7gDC3YEuUjz",
      "include_colab_link": true
    },
    "kernelspec": {
      "display_name": "Python 3",
      "name": "python3"
    },
    "language_info": {
      "name": "python"
    }
  },
  "nbformat": 4,
  "nbformat_minor": 0
}